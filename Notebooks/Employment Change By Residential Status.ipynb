{
 "cells": [
  {
   "cell_type": "code",
   "execution_count": 1,
   "id": "f6fe6242",
   "metadata": {},
   "outputs": [],
   "source": [
    "import pandas as pd\n",
    "import seaborn as sns\n",
    "import plotly.express as px"
   ]
  },
  {
   "cell_type": "code",
   "execution_count": 2,
   "id": "38d1f892",
   "metadata": {},
   "outputs": [
    {
     "data": {
      "text/html": [
       "<div>\n",
       "<style scoped>\n",
       "    .dataframe tbody tr th:only-of-type {\n",
       "        vertical-align: middle;\n",
       "    }\n",
       "\n",
       "    .dataframe tbody tr th {\n",
       "        vertical-align: top;\n",
       "    }\n",
       "\n",
       "    .dataframe thead th {\n",
       "        text-align: right;\n",
       "    }\n",
       "</style>\n",
       "<table border=\"1\" class=\"dataframe\">\n",
       "  <thead>\n",
       "    <tr style=\"text-align: right;\">\n",
       "      <th></th>\n",
       "      <th>Year</th>\n",
       "      <th>Residential Status</th>\n",
       "      <th>Industry</th>\n",
       "      <th>Change</th>\n",
       "    </tr>\n",
       "  </thead>\n",
       "  <tbody>\n",
       "    <tr>\n",
       "      <th>0</th>\n",
       "      <td>1991</td>\n",
       "      <td>resident</td>\n",
       "      <td>manufacturing</td>\n",
       "      <td>-3.6</td>\n",
       "    </tr>\n",
       "    <tr>\n",
       "      <th>1</th>\n",
       "      <td>1992</td>\n",
       "      <td>resident</td>\n",
       "      <td>manufacturing</td>\n",
       "      <td>1.7</td>\n",
       "    </tr>\n",
       "    <tr>\n",
       "      <th>2</th>\n",
       "      <td>1993</td>\n",
       "      <td>resident</td>\n",
       "      <td>manufacturing</td>\n",
       "      <td>-4.2</td>\n",
       "    </tr>\n",
       "    <tr>\n",
       "      <th>3</th>\n",
       "      <td>1994</td>\n",
       "      <td>resident</td>\n",
       "      <td>manufacturing</td>\n",
       "      <td>-0.2</td>\n",
       "    </tr>\n",
       "    <tr>\n",
       "      <th>4</th>\n",
       "      <td>1995</td>\n",
       "      <td>resident</td>\n",
       "      <td>manufacturing</td>\n",
       "      <td>-2.9</td>\n",
       "    </tr>\n",
       "    <tr>\n",
       "      <th>...</th>\n",
       "      <td>...</td>\n",
       "      <td>...</td>\n",
       "      <td>...</td>\n",
       "      <td>...</td>\n",
       "    </tr>\n",
       "    <tr>\n",
       "      <th>243</th>\n",
       "      <td>2017</td>\n",
       "      <td>non-resident</td>\n",
       "      <td>others</td>\n",
       "      <td>0.1</td>\n",
       "    </tr>\n",
       "    <tr>\n",
       "      <th>244</th>\n",
       "      <td>2018</td>\n",
       "      <td>non-resident</td>\n",
       "      <td>others</td>\n",
       "      <td>0.2</td>\n",
       "    </tr>\n",
       "    <tr>\n",
       "      <th>245</th>\n",
       "      <td>2019</td>\n",
       "      <td>non-resident</td>\n",
       "      <td>others</td>\n",
       "      <td>0.1</td>\n",
       "    </tr>\n",
       "    <tr>\n",
       "      <th>246</th>\n",
       "      <td>2020</td>\n",
       "      <td>non-resident</td>\n",
       "      <td>others</td>\n",
       "      <td>-0.4</td>\n",
       "    </tr>\n",
       "    <tr>\n",
       "      <th>247</th>\n",
       "      <td>2021</td>\n",
       "      <td>non-resident</td>\n",
       "      <td>others</td>\n",
       "      <td>-0.1</td>\n",
       "    </tr>\n",
       "  </tbody>\n",
       "</table>\n",
       "<p>248 rows × 4 columns</p>\n",
       "</div>"
      ],
      "text/plain": [
       "     Year Residential Status       Industry Change\n",
       "0    1991           resident  manufacturing   -3.6\n",
       "1    1992           resident  manufacturing    1.7\n",
       "2    1993           resident  manufacturing   -4.2\n",
       "3    1994           resident  manufacturing   -0.2\n",
       "4    1995           resident  manufacturing   -2.9\n",
       "..    ...                ...            ...    ...\n",
       "243  2017       non-resident         others    0.1\n",
       "244  2018       non-resident         others    0.2\n",
       "245  2019       non-resident         others    0.1\n",
       "246  2020       non-resident         others   -0.4\n",
       "247  2021       non-resident         others   -0.1\n",
       "\n",
       "[248 rows x 4 columns]"
      ]
     },
     "execution_count": 2,
     "metadata": {},
     "output_type": "execute_result"
    }
   ],
   "source": [
    "df = pd.read_csv(\"../Datasets/mrsd_39_annual_ emp_chng_by_ind_and_res_stat_29072022.csv\").rename(columns={\"year\":\"Year\",\n",
    "                                                                        \n",
    "                                                                                                          \"res_stat\": \"Residential Status\",\n",
    "                                                                                                         \"industry1\":\"Industry\",\n",
    "                                                                                                         \"employment_change\":\"Change\"})\n",
    "df"
   ]
  },
  {
   "cell_type": "code",
   "execution_count": 3,
   "id": "f2bccb40",
   "metadata": {},
   "outputs": [
    {
     "name": "stderr",
     "output_type": "stream",
     "text": [
      "/var/folders/0t/t8f98kd93j12tt5g5n5lwyh80000gn/T/ipykernel_12796/2907642440.py:3: SettingWithCopyWarning: \n",
      "A value is trying to be set on a copy of a slice from a DataFrame.\n",
      "Try using .loc[row_indexer,col_indexer] = value instead\n",
      "\n",
      "See the caveats in the documentation: https://pandas.pydata.org/pandas-docs/stable/user_guide/indexing.html#returning-a-view-versus-a-copy\n",
      "  df[\"Change\"] = df[\"Change\"].astype(float)\n"
     ]
    },
    {
     "data": {
      "text/html": [
       "<div>\n",
       "<style scoped>\n",
       "    .dataframe tbody tr th:only-of-type {\n",
       "        vertical-align: middle;\n",
       "    }\n",
       "\n",
       "    .dataframe tbody tr th {\n",
       "        vertical-align: top;\n",
       "    }\n",
       "\n",
       "    .dataframe thead th {\n",
       "        text-align: right;\n",
       "    }\n",
       "</style>\n",
       "<table border=\"1\" class=\"dataframe\">\n",
       "  <thead>\n",
       "    <tr style=\"text-align: right;\">\n",
       "      <th></th>\n",
       "      <th>Year</th>\n",
       "      <th>Residential Status</th>\n",
       "      <th>Industry</th>\n",
       "      <th>Change</th>\n",
       "    </tr>\n",
       "  </thead>\n",
       "  <tbody>\n",
       "    <tr>\n",
       "      <th>26</th>\n",
       "      <td>2017</td>\n",
       "      <td>resident</td>\n",
       "      <td>manufacturing</td>\n",
       "      <td>-1.0</td>\n",
       "    </tr>\n",
       "    <tr>\n",
       "      <th>27</th>\n",
       "      <td>2018</td>\n",
       "      <td>resident</td>\n",
       "      <td>manufacturing</td>\n",
       "      <td>-1.8</td>\n",
       "    </tr>\n",
       "    <tr>\n",
       "      <th>28</th>\n",
       "      <td>2019</td>\n",
       "      <td>resident</td>\n",
       "      <td>manufacturing</td>\n",
       "      <td>-2.0</td>\n",
       "    </tr>\n",
       "    <tr>\n",
       "      <th>29</th>\n",
       "      <td>2020</td>\n",
       "      <td>resident</td>\n",
       "      <td>manufacturing</td>\n",
       "      <td>-3.6</td>\n",
       "    </tr>\n",
       "    <tr>\n",
       "      <th>30</th>\n",
       "      <td>2021</td>\n",
       "      <td>resident</td>\n",
       "      <td>manufacturing</td>\n",
       "      <td>0.1</td>\n",
       "    </tr>\n",
       "    <tr>\n",
       "      <th>57</th>\n",
       "      <td>2017</td>\n",
       "      <td>non-resident</td>\n",
       "      <td>manufacturing</td>\n",
       "      <td>-9.9</td>\n",
       "    </tr>\n",
       "    <tr>\n",
       "      <th>58</th>\n",
       "      <td>2018</td>\n",
       "      <td>non-resident</td>\n",
       "      <td>manufacturing</td>\n",
       "      <td>-0.6</td>\n",
       "    </tr>\n",
       "    <tr>\n",
       "      <th>59</th>\n",
       "      <td>2019</td>\n",
       "      <td>non-resident</td>\n",
       "      <td>manufacturing</td>\n",
       "      <td>-0.1</td>\n",
       "    </tr>\n",
       "    <tr>\n",
       "      <th>60</th>\n",
       "      <td>2020</td>\n",
       "      <td>non-resident</td>\n",
       "      <td>manufacturing</td>\n",
       "      <td>-34.2</td>\n",
       "    </tr>\n",
       "    <tr>\n",
       "      <th>61</th>\n",
       "      <td>2021</td>\n",
       "      <td>non-resident</td>\n",
       "      <td>manufacturing</td>\n",
       "      <td>-1.7</td>\n",
       "    </tr>\n",
       "    <tr>\n",
       "      <th>88</th>\n",
       "      <td>2017</td>\n",
       "      <td>resident</td>\n",
       "      <td>construction</td>\n",
       "      <td>-5.5</td>\n",
       "    </tr>\n",
       "    <tr>\n",
       "      <th>89</th>\n",
       "      <td>2018</td>\n",
       "      <td>resident</td>\n",
       "      <td>construction</td>\n",
       "      <td>-1.7</td>\n",
       "    </tr>\n",
       "    <tr>\n",
       "      <th>90</th>\n",
       "      <td>2019</td>\n",
       "      <td>resident</td>\n",
       "      <td>construction</td>\n",
       "      <td>-1.4</td>\n",
       "    </tr>\n",
       "    <tr>\n",
       "      <th>91</th>\n",
       "      <td>2020</td>\n",
       "      <td>resident</td>\n",
       "      <td>construction</td>\n",
       "      <td>1.0</td>\n",
       "    </tr>\n",
       "    <tr>\n",
       "      <th>92</th>\n",
       "      <td>2021</td>\n",
       "      <td>resident</td>\n",
       "      <td>construction</td>\n",
       "      <td>2.5</td>\n",
       "    </tr>\n",
       "    <tr>\n",
       "      <th>119</th>\n",
       "      <td>2017</td>\n",
       "      <td>non-resident</td>\n",
       "      <td>construction</td>\n",
       "      <td>-32.8</td>\n",
       "    </tr>\n",
       "    <tr>\n",
       "      <th>120</th>\n",
       "      <td>2018</td>\n",
       "      <td>non-resident</td>\n",
       "      <td>construction</td>\n",
       "      <td>-5.4</td>\n",
       "    </tr>\n",
       "    <tr>\n",
       "      <th>121</th>\n",
       "      <td>2019</td>\n",
       "      <td>non-resident</td>\n",
       "      <td>construction</td>\n",
       "      <td>14.0</td>\n",
       "    </tr>\n",
       "    <tr>\n",
       "      <th>122</th>\n",
       "      <td>2020</td>\n",
       "      <td>non-resident</td>\n",
       "      <td>construction</td>\n",
       "      <td>-52.8</td>\n",
       "    </tr>\n",
       "    <tr>\n",
       "      <th>123</th>\n",
       "      <td>2021</td>\n",
       "      <td>non-resident</td>\n",
       "      <td>construction</td>\n",
       "      <td>1.8</td>\n",
       "    </tr>\n",
       "    <tr>\n",
       "      <th>150</th>\n",
       "      <td>2017</td>\n",
       "      <td>resident</td>\n",
       "      <td>services</td>\n",
       "      <td>28.3</td>\n",
       "    </tr>\n",
       "    <tr>\n",
       "      <th>151</th>\n",
       "      <td>2018</td>\n",
       "      <td>resident</td>\n",
       "      <td>services</td>\n",
       "      <td>31.2</td>\n",
       "    </tr>\n",
       "    <tr>\n",
       "      <th>152</th>\n",
       "      <td>2019</td>\n",
       "      <td>resident</td>\n",
       "      <td>services</td>\n",
       "      <td>31.9</td>\n",
       "    </tr>\n",
       "    <tr>\n",
       "      <th>153</th>\n",
       "      <td>2020</td>\n",
       "      <td>resident</td>\n",
       "      <td>services</td>\n",
       "      <td>17.4</td>\n",
       "    </tr>\n",
       "    <tr>\n",
       "      <th>154</th>\n",
       "      <td>2021</td>\n",
       "      <td>resident</td>\n",
       "      <td>services</td>\n",
       "      <td>67.9</td>\n",
       "    </tr>\n",
       "    <tr>\n",
       "      <th>181</th>\n",
       "      <td>2017</td>\n",
       "      <td>non-resident</td>\n",
       "      <td>services</td>\n",
       "      <td>17.7</td>\n",
       "    </tr>\n",
       "    <tr>\n",
       "      <th>182</th>\n",
       "      <td>2018</td>\n",
       "      <td>non-resident</td>\n",
       "      <td>services</td>\n",
       "      <td>23.7</td>\n",
       "    </tr>\n",
       "    <tr>\n",
       "      <th>183</th>\n",
       "      <td>2019</td>\n",
       "      <td>non-resident</td>\n",
       "      <td>services</td>\n",
       "      <td>27.5</td>\n",
       "    </tr>\n",
       "    <tr>\n",
       "      <th>184</th>\n",
       "      <td>2020</td>\n",
       "      <td>non-resident</td>\n",
       "      <td>services</td>\n",
       "      <td>-108.5</td>\n",
       "    </tr>\n",
       "    <tr>\n",
       "      <th>185</th>\n",
       "      <td>2021</td>\n",
       "      <td>non-resident</td>\n",
       "      <td>services</td>\n",
       "      <td>-31.2</td>\n",
       "    </tr>\n",
       "    <tr>\n",
       "      <th>212</th>\n",
       "      <td>2017</td>\n",
       "      <td>resident</td>\n",
       "      <td>others</td>\n",
       "      <td>-0.5</td>\n",
       "    </tr>\n",
       "    <tr>\n",
       "      <th>213</th>\n",
       "      <td>2018</td>\n",
       "      <td>resident</td>\n",
       "      <td>others</td>\n",
       "      <td>-0.4</td>\n",
       "    </tr>\n",
       "    <tr>\n",
       "      <th>214</th>\n",
       "      <td>2019</td>\n",
       "      <td>resident</td>\n",
       "      <td>others</td>\n",
       "      <td>-0.2</td>\n",
       "    </tr>\n",
       "    <tr>\n",
       "      <th>215</th>\n",
       "      <td>2020</td>\n",
       "      <td>resident</td>\n",
       "      <td>others</td>\n",
       "      <td>0.2</td>\n",
       "    </tr>\n",
       "    <tr>\n",
       "      <th>216</th>\n",
       "      <td>2021</td>\n",
       "      <td>resident</td>\n",
       "      <td>others</td>\n",
       "      <td>0.8</td>\n",
       "    </tr>\n",
       "    <tr>\n",
       "      <th>243</th>\n",
       "      <td>2017</td>\n",
       "      <td>non-resident</td>\n",
       "      <td>others</td>\n",
       "      <td>0.1</td>\n",
       "    </tr>\n",
       "    <tr>\n",
       "      <th>244</th>\n",
       "      <td>2018</td>\n",
       "      <td>non-resident</td>\n",
       "      <td>others</td>\n",
       "      <td>0.2</td>\n",
       "    </tr>\n",
       "    <tr>\n",
       "      <th>245</th>\n",
       "      <td>2019</td>\n",
       "      <td>non-resident</td>\n",
       "      <td>others</td>\n",
       "      <td>0.1</td>\n",
       "    </tr>\n",
       "    <tr>\n",
       "      <th>246</th>\n",
       "      <td>2020</td>\n",
       "      <td>non-resident</td>\n",
       "      <td>others</td>\n",
       "      <td>-0.4</td>\n",
       "    </tr>\n",
       "    <tr>\n",
       "      <th>247</th>\n",
       "      <td>2021</td>\n",
       "      <td>non-resident</td>\n",
       "      <td>others</td>\n",
       "      <td>-0.1</td>\n",
       "    </tr>\n",
       "  </tbody>\n",
       "</table>\n",
       "</div>"
      ],
      "text/plain": [
       "     Year Residential Status       Industry  Change\n",
       "26   2017           resident  manufacturing    -1.0\n",
       "27   2018           resident  manufacturing    -1.8\n",
       "28   2019           resident  manufacturing    -2.0\n",
       "29   2020           resident  manufacturing    -3.6\n",
       "30   2021           resident  manufacturing     0.1\n",
       "57   2017       non-resident  manufacturing    -9.9\n",
       "58   2018       non-resident  manufacturing    -0.6\n",
       "59   2019       non-resident  manufacturing    -0.1\n",
       "60   2020       non-resident  manufacturing   -34.2\n",
       "61   2021       non-resident  manufacturing    -1.7\n",
       "88   2017           resident   construction    -5.5\n",
       "89   2018           resident   construction    -1.7\n",
       "90   2019           resident   construction    -1.4\n",
       "91   2020           resident   construction     1.0\n",
       "92   2021           resident   construction     2.5\n",
       "119  2017       non-resident   construction   -32.8\n",
       "120  2018       non-resident   construction    -5.4\n",
       "121  2019       non-resident   construction    14.0\n",
       "122  2020       non-resident   construction   -52.8\n",
       "123  2021       non-resident   construction     1.8\n",
       "150  2017           resident       services    28.3\n",
       "151  2018           resident       services    31.2\n",
       "152  2019           resident       services    31.9\n",
       "153  2020           resident       services    17.4\n",
       "154  2021           resident       services    67.9\n",
       "181  2017       non-resident       services    17.7\n",
       "182  2018       non-resident       services    23.7\n",
       "183  2019       non-resident       services    27.5\n",
       "184  2020       non-resident       services  -108.5\n",
       "185  2021       non-resident       services   -31.2\n",
       "212  2017           resident         others    -0.5\n",
       "213  2018           resident         others    -0.4\n",
       "214  2019           resident         others    -0.2\n",
       "215  2020           resident         others     0.2\n",
       "216  2021           resident         others     0.8\n",
       "243  2017       non-resident         others     0.1\n",
       "244  2018       non-resident         others     0.2\n",
       "245  2019       non-resident         others     0.1\n",
       "246  2020       non-resident         others    -0.4\n",
       "247  2021       non-resident         others    -0.1"
      ]
     },
     "execution_count": 3,
     "metadata": {},
     "output_type": "execute_result"
    }
   ],
   "source": [
    "df = df[df.Year >= 2017]\n",
    "# df = df[(df.Year == 2019) | (df.Year == 2020)]\n",
    "df[\"Change\"] = df[\"Change\"].astype(float)\n",
    "df"
   ]
  },
  {
   "cell_type": "code",
   "execution_count": 5,
   "id": "3c88be58",
   "metadata": {},
   "outputs": [
    {
     "data": {
      "application/vnd.plotly.v1+json": {
       "config": {
        "plotlyServerURL": "https://plot.ly"
       },
       "data": [
        {
         "branchvalues": "total",
         "customdata": [
          [
           -108.5
          ],
          [
           -52.8
          ],
          [
           -34.2
          ],
          [
           -32.8
          ],
          [
           -31.2
          ],
          [
           -9.9
          ],
          [
           -5.5
          ],
          [
           -5.4
          ],
          [
           -3.6
          ],
          [
           -2
          ],
          [
           -1.8
          ],
          [
           -1.7
          ],
          [
           -1.7
          ],
          [
           -1.4
          ],
          [
           -1
          ],
          [
           -0.6
          ],
          [
           -0.5
          ],
          [
           -0.4
          ],
          [
           -0.4
          ],
          [
           -0.2
          ],
          [
           -0.1
          ],
          [
           -0.1
          ],
          [
           0.1
          ],
          [
           0.1
          ],
          [
           0.1
          ],
          [
           0.2
          ],
          [
           0.2
          ],
          [
           0.8
          ],
          [
           1
          ],
          [
           1.8
          ],
          [
           2.5
          ],
          [
           14
          ],
          [
           17.4
          ],
          [
           17.7
          ],
          [
           23.7
          ],
          [
           27.5
          ],
          [
           28.3
          ],
          [
           31.2
          ],
          [
           31.9
          ],
          [
           67.9
          ],
          [
           -32.8
          ],
          [
           -5.4
          ],
          [
           14
          ],
          [
           -52.8
          ],
          [
           1.8
          ],
          [
           -5.5
          ],
          [
           -1.7
          ],
          [
           -1.4
          ],
          [
           1
          ],
          [
           2.5
          ],
          [
           -9.9
          ],
          [
           -0.6
          ],
          [
           -0.1
          ],
          [
           -34.2
          ],
          [
           -1.7
          ],
          [
           -1
          ],
          [
           -1.8
          ],
          [
           -2
          ],
          [
           -3.6
          ],
          [
           0.1
          ],
          [
           0.1
          ],
          [
           0.2
          ],
          [
           0.1
          ],
          [
           -0.4
          ],
          [
           -0.1
          ],
          [
           -0.5
          ],
          [
           -0.4
          ],
          [
           -0.2
          ],
          [
           0.2
          ],
          [
           0.8
          ],
          [
           17.7
          ],
          [
           23.7
          ],
          [
           27.5
          ],
          [
           -108.5
          ],
          [
           -31.2
          ],
          [
           28.3
          ],
          [
           31.2
          ],
          [
           31.9
          ],
          [
           17.4
          ],
          [
           67.9
          ],
          [
           -6.224999999999999
          ],
          [
           4.475
          ],
          [
           10.375
          ],
          [
           -48.975
          ],
          [
           -7.8
          ],
          [
           5.325
          ],
          [
           6.825
          ],
          [
           7.075
          ],
          [
           3.7499999999999996
          ],
          [
           17.825
          ],
          [
           -0.4499999999999993
          ],
          [
           5.6499999999999995
          ],
          [
           8.725
          ],
          [
           -22.612499999999997
          ],
          [
           5.012500000000001
          ]
         ],
         "domain": {
          "x": [
           0,
           1
          ],
          "y": [
           0,
           1
          ]
         },
         "hovertemplate": "labels=%{label}<br>count=%{value}<br>parent=%{parent}<br>id=%{id}<br>Change=%{color}<extra></extra>",
         "ids": [
          "2020/non-resident/services/-108.5",
          "2020/non-resident/construction/-52.8",
          "2020/non-resident/manufacturing/-34.2",
          "2017/non-resident/construction/-32.8",
          "2021/non-resident/services/-31.2",
          "2017/non-resident/manufacturing/-9.9",
          "2017/resident/construction/-5.5",
          "2018/non-resident/construction/-5.4",
          "2020/resident/manufacturing/-3.6",
          "2019/resident/manufacturing/-2.0",
          "2018/resident/manufacturing/-1.8",
          "2018/resident/construction/-1.7",
          "2021/non-resident/manufacturing/-1.7",
          "2019/resident/construction/-1.4",
          "2017/resident/manufacturing/-1.0",
          "2018/non-resident/manufacturing/-0.6",
          "2017/resident/others/-0.5",
          "2020/non-resident/others/-0.4",
          "2018/resident/others/-0.4",
          "2019/resident/others/-0.2",
          "2019/non-resident/manufacturing/-0.1",
          "2021/non-resident/others/-0.1",
          "2021/resident/manufacturing/0.1",
          "2017/non-resident/others/0.1",
          "2019/non-resident/others/0.1",
          "2018/non-resident/others/0.2",
          "2020/resident/others/0.2",
          "2021/resident/others/0.8",
          "2020/resident/construction/1.0",
          "2021/non-resident/construction/1.8",
          "2021/resident/construction/2.5",
          "2019/non-resident/construction/14.0",
          "2020/resident/services/17.4",
          "2017/non-resident/services/17.7",
          "2018/non-resident/services/23.7",
          "2019/non-resident/services/27.5",
          "2017/resident/services/28.3",
          "2018/resident/services/31.2",
          "2019/resident/services/31.9",
          "2021/resident/services/67.9",
          "2017/non-resident/construction",
          "2018/non-resident/construction",
          "2019/non-resident/construction",
          "2020/non-resident/construction",
          "2021/non-resident/construction",
          "2017/resident/construction",
          "2018/resident/construction",
          "2019/resident/construction",
          "2020/resident/construction",
          "2021/resident/construction",
          "2017/non-resident/manufacturing",
          "2018/non-resident/manufacturing",
          "2019/non-resident/manufacturing",
          "2020/non-resident/manufacturing",
          "2021/non-resident/manufacturing",
          "2017/resident/manufacturing",
          "2018/resident/manufacturing",
          "2019/resident/manufacturing",
          "2020/resident/manufacturing",
          "2021/resident/manufacturing",
          "2017/non-resident/others",
          "2018/non-resident/others",
          "2019/non-resident/others",
          "2020/non-resident/others",
          "2021/non-resident/others",
          "2017/resident/others",
          "2018/resident/others",
          "2019/resident/others",
          "2020/resident/others",
          "2021/resident/others",
          "2017/non-resident/services",
          "2018/non-resident/services",
          "2019/non-resident/services",
          "2020/non-resident/services",
          "2021/non-resident/services",
          "2017/resident/services",
          "2018/resident/services",
          "2019/resident/services",
          "2020/resident/services",
          "2021/resident/services",
          "2017/non-resident",
          "2018/non-resident",
          "2019/non-resident",
          "2020/non-resident",
          "2021/non-resident",
          "2017/resident",
          "2018/resident",
          "2019/resident",
          "2020/resident",
          "2021/resident",
          "2017",
          "2018",
          "2019",
          "2020",
          "2021"
         ],
         "labels": [
          "-108.5",
          "-52.8",
          "-34.2",
          "-32.8",
          "-31.2",
          "-9.9",
          "-5.5",
          "-5.4",
          "-3.6",
          "-2.0",
          "-1.8",
          "-1.7",
          "-1.7",
          "-1.4",
          "-1.0",
          "-0.6",
          "-0.5",
          "-0.4",
          "-0.4",
          "-0.2",
          "-0.1",
          "-0.1",
          "0.1",
          "0.1",
          "0.1",
          "0.2",
          "0.2",
          "0.8",
          "1.0",
          "1.8",
          "2.5",
          "14.0",
          "17.4",
          "17.7",
          "23.7",
          "27.5",
          "28.3",
          "31.2",
          "31.9",
          "67.9",
          "construction",
          "construction",
          "construction",
          "construction",
          "construction",
          "construction",
          "construction",
          "construction",
          "construction",
          "construction",
          "manufacturing",
          "manufacturing",
          "manufacturing",
          "manufacturing",
          "manufacturing",
          "manufacturing",
          "manufacturing",
          "manufacturing",
          "manufacturing",
          "manufacturing",
          "others",
          "others",
          "others",
          "others",
          "others",
          "others",
          "others",
          "others",
          "others",
          "others",
          "services",
          "services",
          "services",
          "services",
          "services",
          "services",
          "services",
          "services",
          "services",
          "services",
          "non-resident",
          "non-resident",
          "non-resident",
          "non-resident",
          "non-resident",
          "resident",
          "resident",
          "resident",
          "resident",
          "resident",
          "2017",
          "2018",
          "2019",
          "2020",
          "2021"
         ],
         "marker": {
          "coloraxis": "coloraxis",
          "colors": [
           -108.5,
           -52.8,
           -34.2,
           -32.8,
           -31.2,
           -9.9,
           -5.5,
           -5.4,
           -3.6,
           -2,
           -1.8,
           -1.7,
           -1.7,
           -1.4,
           -1,
           -0.6,
           -0.5,
           -0.4,
           -0.4,
           -0.2,
           -0.1,
           -0.1,
           0.1,
           0.1,
           0.1,
           0.2,
           0.2,
           0.8,
           1,
           1.8,
           2.5,
           14,
           17.4,
           17.7,
           23.7,
           27.5,
           28.3,
           31.2,
           31.9,
           67.9,
           -32.8,
           -5.4,
           14,
           -52.8,
           1.8,
           -5.5,
           -1.7,
           -1.4,
           1,
           2.5,
           -9.9,
           -0.6,
           -0.1,
           -34.2,
           -1.7,
           -1,
           -1.8,
           -2,
           -3.6,
           0.1,
           0.1,
           0.2,
           0.1,
           -0.4,
           -0.1,
           -0.5,
           -0.4,
           -0.2,
           0.2,
           0.8,
           17.7,
           23.7,
           27.5,
           -108.5,
           -31.2,
           28.3,
           31.2,
           31.9,
           17.4,
           67.9,
           -6.224999999999999,
           4.475,
           10.375,
           -48.975,
           -7.8,
           5.325,
           6.825,
           7.075,
           3.7499999999999996,
           17.825,
           -0.4499999999999993,
           5.6499999999999995,
           8.725,
           -22.612499999999997,
           5.012500000000001
          ]
         },
         "name": "",
         "parents": [
          "2020/non-resident/services",
          "2020/non-resident/construction",
          "2020/non-resident/manufacturing",
          "2017/non-resident/construction",
          "2021/non-resident/services",
          "2017/non-resident/manufacturing",
          "2017/resident/construction",
          "2018/non-resident/construction",
          "2020/resident/manufacturing",
          "2019/resident/manufacturing",
          "2018/resident/manufacturing",
          "2018/resident/construction",
          "2021/non-resident/manufacturing",
          "2019/resident/construction",
          "2017/resident/manufacturing",
          "2018/non-resident/manufacturing",
          "2017/resident/others",
          "2020/non-resident/others",
          "2018/resident/others",
          "2019/resident/others",
          "2019/non-resident/manufacturing",
          "2021/non-resident/others",
          "2021/resident/manufacturing",
          "2017/non-resident/others",
          "2019/non-resident/others",
          "2018/non-resident/others",
          "2020/resident/others",
          "2021/resident/others",
          "2020/resident/construction",
          "2021/non-resident/construction",
          "2021/resident/construction",
          "2019/non-resident/construction",
          "2020/resident/services",
          "2017/non-resident/services",
          "2018/non-resident/services",
          "2019/non-resident/services",
          "2017/resident/services",
          "2018/resident/services",
          "2019/resident/services",
          "2021/resident/services",
          "2017/non-resident",
          "2018/non-resident",
          "2019/non-resident",
          "2020/non-resident",
          "2021/non-resident",
          "2017/resident",
          "2018/resident",
          "2019/resident",
          "2020/resident",
          "2021/resident",
          "2017/non-resident",
          "2018/non-resident",
          "2019/non-resident",
          "2020/non-resident",
          "2021/non-resident",
          "2017/resident",
          "2018/resident",
          "2019/resident",
          "2020/resident",
          "2021/resident",
          "2017/non-resident",
          "2018/non-resident",
          "2019/non-resident",
          "2020/non-resident",
          "2021/non-resident",
          "2017/resident",
          "2018/resident",
          "2019/resident",
          "2020/resident",
          "2021/resident",
          "2017/non-resident",
          "2018/non-resident",
          "2019/non-resident",
          "2020/non-resident",
          "2021/non-resident",
          "2017/resident",
          "2018/resident",
          "2019/resident",
          "2020/resident",
          "2021/resident",
          "2017",
          "2018",
          "2019",
          "2020",
          "2021",
          "2017",
          "2018",
          "2019",
          "2020",
          "2021",
          "",
          "",
          "",
          "",
          ""
         ],
         "type": "sunburst",
         "values": [
          1,
          1,
          1,
          1,
          1,
          1,
          1,
          1,
          1,
          1,
          1,
          1,
          1,
          1,
          1,
          1,
          1,
          1,
          1,
          1,
          1,
          1,
          1,
          1,
          1,
          1,
          1,
          1,
          1,
          1,
          1,
          1,
          1,
          1,
          1,
          1,
          1,
          1,
          1,
          1,
          1,
          1,
          1,
          1,
          1,
          1,
          1,
          1,
          1,
          1,
          1,
          1,
          1,
          1,
          1,
          1,
          1,
          1,
          1,
          1,
          1,
          1,
          1,
          1,
          1,
          1,
          1,
          1,
          1,
          1,
          1,
          1,
          1,
          1,
          1,
          1,
          1,
          1,
          1,
          1,
          4,
          4,
          4,
          4,
          4,
          4,
          4,
          4,
          4,
          4,
          8,
          8,
          8,
          8,
          8
         ]
        }
       ],
       "layout": {
        "coloraxis": {
         "colorbar": {
          "title": {
           "text": "Change"
          }
         },
         "colorscale": [
          [
           0,
           "rgb(103,0,31)"
          ],
          [
           0.1,
           "rgb(178,24,43)"
          ],
          [
           0.2,
           "rgb(214,96,77)"
          ],
          [
           0.3,
           "rgb(244,165,130)"
          ],
          [
           0.4,
           "rgb(253,219,199)"
          ],
          [
           0.5,
           "rgb(247,247,247)"
          ],
          [
           0.6,
           "rgb(209,229,240)"
          ],
          [
           0.7,
           "rgb(146,197,222)"
          ],
          [
           0.8,
           "rgb(67,147,195)"
          ],
          [
           0.9,
           "rgb(33,102,172)"
          ],
          [
           1,
           "rgb(5,48,97)"
          ]
         ]
        },
        "legend": {
         "tracegroupgap": 0
        },
        "margin": {
         "t": 60
        },
        "template": {
         "data": {
          "bar": [
           {
            "error_x": {
             "color": "#2a3f5f"
            },
            "error_y": {
             "color": "#2a3f5f"
            },
            "marker": {
             "line": {
              "color": "#E5ECF6",
              "width": 0.5
             },
             "pattern": {
              "fillmode": "overlay",
              "size": 10,
              "solidity": 0.2
             }
            },
            "type": "bar"
           }
          ],
          "barpolar": [
           {
            "marker": {
             "line": {
              "color": "#E5ECF6",
              "width": 0.5
             },
             "pattern": {
              "fillmode": "overlay",
              "size": 10,
              "solidity": 0.2
             }
            },
            "type": "barpolar"
           }
          ],
          "carpet": [
           {
            "aaxis": {
             "endlinecolor": "#2a3f5f",
             "gridcolor": "white",
             "linecolor": "white",
             "minorgridcolor": "white",
             "startlinecolor": "#2a3f5f"
            },
            "baxis": {
             "endlinecolor": "#2a3f5f",
             "gridcolor": "white",
             "linecolor": "white",
             "minorgridcolor": "white",
             "startlinecolor": "#2a3f5f"
            },
            "type": "carpet"
           }
          ],
          "choropleth": [
           {
            "colorbar": {
             "outlinewidth": 0,
             "ticks": ""
            },
            "type": "choropleth"
           }
          ],
          "contour": [
           {
            "colorbar": {
             "outlinewidth": 0,
             "ticks": ""
            },
            "colorscale": [
             [
              0,
              "#0d0887"
             ],
             [
              0.1111111111111111,
              "#46039f"
             ],
             [
              0.2222222222222222,
              "#7201a8"
             ],
             [
              0.3333333333333333,
              "#9c179e"
             ],
             [
              0.4444444444444444,
              "#bd3786"
             ],
             [
              0.5555555555555556,
              "#d8576b"
             ],
             [
              0.6666666666666666,
              "#ed7953"
             ],
             [
              0.7777777777777778,
              "#fb9f3a"
             ],
             [
              0.8888888888888888,
              "#fdca26"
             ],
             [
              1,
              "#f0f921"
             ]
            ],
            "type": "contour"
           }
          ],
          "contourcarpet": [
           {
            "colorbar": {
             "outlinewidth": 0,
             "ticks": ""
            },
            "type": "contourcarpet"
           }
          ],
          "heatmap": [
           {
            "colorbar": {
             "outlinewidth": 0,
             "ticks": ""
            },
            "colorscale": [
             [
              0,
              "#0d0887"
             ],
             [
              0.1111111111111111,
              "#46039f"
             ],
             [
              0.2222222222222222,
              "#7201a8"
             ],
             [
              0.3333333333333333,
              "#9c179e"
             ],
             [
              0.4444444444444444,
              "#bd3786"
             ],
             [
              0.5555555555555556,
              "#d8576b"
             ],
             [
              0.6666666666666666,
              "#ed7953"
             ],
             [
              0.7777777777777778,
              "#fb9f3a"
             ],
             [
              0.8888888888888888,
              "#fdca26"
             ],
             [
              1,
              "#f0f921"
             ]
            ],
            "type": "heatmap"
           }
          ],
          "heatmapgl": [
           {
            "colorbar": {
             "outlinewidth": 0,
             "ticks": ""
            },
            "colorscale": [
             [
              0,
              "#0d0887"
             ],
             [
              0.1111111111111111,
              "#46039f"
             ],
             [
              0.2222222222222222,
              "#7201a8"
             ],
             [
              0.3333333333333333,
              "#9c179e"
             ],
             [
              0.4444444444444444,
              "#bd3786"
             ],
             [
              0.5555555555555556,
              "#d8576b"
             ],
             [
              0.6666666666666666,
              "#ed7953"
             ],
             [
              0.7777777777777778,
              "#fb9f3a"
             ],
             [
              0.8888888888888888,
              "#fdca26"
             ],
             [
              1,
              "#f0f921"
             ]
            ],
            "type": "heatmapgl"
           }
          ],
          "histogram": [
           {
            "marker": {
             "pattern": {
              "fillmode": "overlay",
              "size": 10,
              "solidity": 0.2
             }
            },
            "type": "histogram"
           }
          ],
          "histogram2d": [
           {
            "colorbar": {
             "outlinewidth": 0,
             "ticks": ""
            },
            "colorscale": [
             [
              0,
              "#0d0887"
             ],
             [
              0.1111111111111111,
              "#46039f"
             ],
             [
              0.2222222222222222,
              "#7201a8"
             ],
             [
              0.3333333333333333,
              "#9c179e"
             ],
             [
              0.4444444444444444,
              "#bd3786"
             ],
             [
              0.5555555555555556,
              "#d8576b"
             ],
             [
              0.6666666666666666,
              "#ed7953"
             ],
             [
              0.7777777777777778,
              "#fb9f3a"
             ],
             [
              0.8888888888888888,
              "#fdca26"
             ],
             [
              1,
              "#f0f921"
             ]
            ],
            "type": "histogram2d"
           }
          ],
          "histogram2dcontour": [
           {
            "colorbar": {
             "outlinewidth": 0,
             "ticks": ""
            },
            "colorscale": [
             [
              0,
              "#0d0887"
             ],
             [
              0.1111111111111111,
              "#46039f"
             ],
             [
              0.2222222222222222,
              "#7201a8"
             ],
             [
              0.3333333333333333,
              "#9c179e"
             ],
             [
              0.4444444444444444,
              "#bd3786"
             ],
             [
              0.5555555555555556,
              "#d8576b"
             ],
             [
              0.6666666666666666,
              "#ed7953"
             ],
             [
              0.7777777777777778,
              "#fb9f3a"
             ],
             [
              0.8888888888888888,
              "#fdca26"
             ],
             [
              1,
              "#f0f921"
             ]
            ],
            "type": "histogram2dcontour"
           }
          ],
          "mesh3d": [
           {
            "colorbar": {
             "outlinewidth": 0,
             "ticks": ""
            },
            "type": "mesh3d"
           }
          ],
          "parcoords": [
           {
            "line": {
             "colorbar": {
              "outlinewidth": 0,
              "ticks": ""
             }
            },
            "type": "parcoords"
           }
          ],
          "pie": [
           {
            "automargin": true,
            "type": "pie"
           }
          ],
          "scatter": [
           {
            "fillpattern": {
             "fillmode": "overlay",
             "size": 10,
             "solidity": 0.2
            },
            "type": "scatter"
           }
          ],
          "scatter3d": [
           {
            "line": {
             "colorbar": {
              "outlinewidth": 0,
              "ticks": ""
             }
            },
            "marker": {
             "colorbar": {
              "outlinewidth": 0,
              "ticks": ""
             }
            },
            "type": "scatter3d"
           }
          ],
          "scattercarpet": [
           {
            "marker": {
             "colorbar": {
              "outlinewidth": 0,
              "ticks": ""
             }
            },
            "type": "scattercarpet"
           }
          ],
          "scattergeo": [
           {
            "marker": {
             "colorbar": {
              "outlinewidth": 0,
              "ticks": ""
             }
            },
            "type": "scattergeo"
           }
          ],
          "scattergl": [
           {
            "marker": {
             "colorbar": {
              "outlinewidth": 0,
              "ticks": ""
             }
            },
            "type": "scattergl"
           }
          ],
          "scattermapbox": [
           {
            "marker": {
             "colorbar": {
              "outlinewidth": 0,
              "ticks": ""
             }
            },
            "type": "scattermapbox"
           }
          ],
          "scatterpolar": [
           {
            "marker": {
             "colorbar": {
              "outlinewidth": 0,
              "ticks": ""
             }
            },
            "type": "scatterpolar"
           }
          ],
          "scatterpolargl": [
           {
            "marker": {
             "colorbar": {
              "outlinewidth": 0,
              "ticks": ""
             }
            },
            "type": "scatterpolargl"
           }
          ],
          "scatterternary": [
           {
            "marker": {
             "colorbar": {
              "outlinewidth": 0,
              "ticks": ""
             }
            },
            "type": "scatterternary"
           }
          ],
          "surface": [
           {
            "colorbar": {
             "outlinewidth": 0,
             "ticks": ""
            },
            "colorscale": [
             [
              0,
              "#0d0887"
             ],
             [
              0.1111111111111111,
              "#46039f"
             ],
             [
              0.2222222222222222,
              "#7201a8"
             ],
             [
              0.3333333333333333,
              "#9c179e"
             ],
             [
              0.4444444444444444,
              "#bd3786"
             ],
             [
              0.5555555555555556,
              "#d8576b"
             ],
             [
              0.6666666666666666,
              "#ed7953"
             ],
             [
              0.7777777777777778,
              "#fb9f3a"
             ],
             [
              0.8888888888888888,
              "#fdca26"
             ],
             [
              1,
              "#f0f921"
             ]
            ],
            "type": "surface"
           }
          ],
          "table": [
           {
            "cells": {
             "fill": {
              "color": "#EBF0F8"
             },
             "line": {
              "color": "white"
             }
            },
            "header": {
             "fill": {
              "color": "#C8D4E3"
             },
             "line": {
              "color": "white"
             }
            },
            "type": "table"
           }
          ]
         },
         "layout": {
          "annotationdefaults": {
           "arrowcolor": "#2a3f5f",
           "arrowhead": 0,
           "arrowwidth": 1
          },
          "autotypenumbers": "strict",
          "coloraxis": {
           "colorbar": {
            "outlinewidth": 0,
            "ticks": ""
           }
          },
          "colorscale": {
           "diverging": [
            [
             0,
             "#8e0152"
            ],
            [
             0.1,
             "#c51b7d"
            ],
            [
             0.2,
             "#de77ae"
            ],
            [
             0.3,
             "#f1b6da"
            ],
            [
             0.4,
             "#fde0ef"
            ],
            [
             0.5,
             "#f7f7f7"
            ],
            [
             0.6,
             "#e6f5d0"
            ],
            [
             0.7,
             "#b8e186"
            ],
            [
             0.8,
             "#7fbc41"
            ],
            [
             0.9,
             "#4d9221"
            ],
            [
             1,
             "#276419"
            ]
           ],
           "sequential": [
            [
             0,
             "#0d0887"
            ],
            [
             0.1111111111111111,
             "#46039f"
            ],
            [
             0.2222222222222222,
             "#7201a8"
            ],
            [
             0.3333333333333333,
             "#9c179e"
            ],
            [
             0.4444444444444444,
             "#bd3786"
            ],
            [
             0.5555555555555556,
             "#d8576b"
            ],
            [
             0.6666666666666666,
             "#ed7953"
            ],
            [
             0.7777777777777778,
             "#fb9f3a"
            ],
            [
             0.8888888888888888,
             "#fdca26"
            ],
            [
             1,
             "#f0f921"
            ]
           ],
           "sequentialminus": [
            [
             0,
             "#0d0887"
            ],
            [
             0.1111111111111111,
             "#46039f"
            ],
            [
             0.2222222222222222,
             "#7201a8"
            ],
            [
             0.3333333333333333,
             "#9c179e"
            ],
            [
             0.4444444444444444,
             "#bd3786"
            ],
            [
             0.5555555555555556,
             "#d8576b"
            ],
            [
             0.6666666666666666,
             "#ed7953"
            ],
            [
             0.7777777777777778,
             "#fb9f3a"
            ],
            [
             0.8888888888888888,
             "#fdca26"
            ],
            [
             1,
             "#f0f921"
            ]
           ]
          },
          "colorway": [
           "#636efa",
           "#EF553B",
           "#00cc96",
           "#ab63fa",
           "#FFA15A",
           "#19d3f3",
           "#FF6692",
           "#B6E880",
           "#FF97FF",
           "#FECB52"
          ],
          "font": {
           "color": "#2a3f5f"
          },
          "geo": {
           "bgcolor": "white",
           "lakecolor": "white",
           "landcolor": "#E5ECF6",
           "showlakes": true,
           "showland": true,
           "subunitcolor": "white"
          },
          "hoverlabel": {
           "align": "left"
          },
          "hovermode": "closest",
          "mapbox": {
           "style": "light"
          },
          "paper_bgcolor": "white",
          "plot_bgcolor": "#E5ECF6",
          "polar": {
           "angularaxis": {
            "gridcolor": "white",
            "linecolor": "white",
            "ticks": ""
           },
           "bgcolor": "#E5ECF6",
           "radialaxis": {
            "gridcolor": "white",
            "linecolor": "white",
            "ticks": ""
           }
          },
          "scene": {
           "xaxis": {
            "backgroundcolor": "#E5ECF6",
            "gridcolor": "white",
            "gridwidth": 2,
            "linecolor": "white",
            "showbackground": true,
            "ticks": "",
            "zerolinecolor": "white"
           },
           "yaxis": {
            "backgroundcolor": "#E5ECF6",
            "gridcolor": "white",
            "gridwidth": 2,
            "linecolor": "white",
            "showbackground": true,
            "ticks": "",
            "zerolinecolor": "white"
           },
           "zaxis": {
            "backgroundcolor": "#E5ECF6",
            "gridcolor": "white",
            "gridwidth": 2,
            "linecolor": "white",
            "showbackground": true,
            "ticks": "",
            "zerolinecolor": "white"
           }
          },
          "shapedefaults": {
           "line": {
            "color": "#2a3f5f"
           }
          },
          "ternary": {
           "aaxis": {
            "gridcolor": "white",
            "linecolor": "white",
            "ticks": ""
           },
           "baxis": {
            "gridcolor": "white",
            "linecolor": "white",
            "ticks": ""
           },
           "bgcolor": "#E5ECF6",
           "caxis": {
            "gridcolor": "white",
            "linecolor": "white",
            "ticks": ""
           }
          },
          "title": {
           "x": 0.05
          },
          "xaxis": {
           "automargin": true,
           "gridcolor": "white",
           "linecolor": "white",
           "ticks": "",
           "title": {
            "standoff": 15
           },
           "zerolinecolor": "white",
           "zerolinewidth": 2
          },
          "yaxis": {
           "automargin": true,
           "gridcolor": "white",
           "linecolor": "white",
           "ticks": "",
           "title": {
            "standoff": 15
           },
           "zerolinecolor": "white",
           "zerolinewidth": 2
          }
         }
        }
       }
      },
      "text/html": [
       "<div>                            <div id=\"6f8cfd14-f111-4204-8e16-e6efe89b0634\" class=\"plotly-graph-div\" style=\"height:525px; width:100%;\"></div>            <script type=\"text/javascript\">                require([\"plotly\"], function(Plotly) {                    window.PLOTLYENV=window.PLOTLYENV || {};                                    if (document.getElementById(\"6f8cfd14-f111-4204-8e16-e6efe89b0634\")) {                    Plotly.newPlot(                        \"6f8cfd14-f111-4204-8e16-e6efe89b0634\",                        [{\"branchvalues\":\"total\",\"customdata\":[[-108.5],[-52.8],[-34.2],[-32.8],[-31.2],[-9.9],[-5.5],[-5.4],[-3.6],[-2.0],[-1.8],[-1.7],[-1.7],[-1.4],[-1.0],[-0.6],[-0.5],[-0.4],[-0.4],[-0.2],[-0.1],[-0.1],[0.1],[0.1],[0.1],[0.2],[0.2],[0.8],[1.0],[1.8],[2.5],[14.0],[17.4],[17.7],[23.7],[27.5],[28.3],[31.2],[31.9],[67.9],[-32.8],[-5.4],[14.0],[-52.8],[1.8],[-5.5],[-1.7],[-1.4],[1.0],[2.5],[-9.9],[-0.6],[-0.1],[-34.2],[-1.7],[-1.0],[-1.8],[-2.0],[-3.6],[0.1],[0.1],[0.2],[0.1],[-0.4],[-0.1],[-0.5],[-0.4],[-0.2],[0.2],[0.8],[17.7],[23.7],[27.5],[-108.5],[-31.2],[28.3],[31.2],[31.9],[17.4],[67.9],[-6.224999999999999],[4.475],[10.375],[-48.975],[-7.8],[5.325],[6.825],[7.075],[3.7499999999999996],[17.825],[-0.4499999999999993],[5.6499999999999995],[8.725],[-22.612499999999997],[5.012500000000001]],\"domain\":{\"x\":[0.0,1.0],\"y\":[0.0,1.0]},\"hovertemplate\":\"labels=%{label}<br>count=%{value}<br>parent=%{parent}<br>id=%{id}<br>Change=%{color}<extra></extra>\",\"ids\":[\"2020/non-resident/services/-108.5\",\"2020/non-resident/construction/-52.8\",\"2020/non-resident/manufacturing/-34.2\",\"2017/non-resident/construction/-32.8\",\"2021/non-resident/services/-31.2\",\"2017/non-resident/manufacturing/-9.9\",\"2017/resident/construction/-5.5\",\"2018/non-resident/construction/-5.4\",\"2020/resident/manufacturing/-3.6\",\"2019/resident/manufacturing/-2.0\",\"2018/resident/manufacturing/-1.8\",\"2018/resident/construction/-1.7\",\"2021/non-resident/manufacturing/-1.7\",\"2019/resident/construction/-1.4\",\"2017/resident/manufacturing/-1.0\",\"2018/non-resident/manufacturing/-0.6\",\"2017/resident/others/-0.5\",\"2020/non-resident/others/-0.4\",\"2018/resident/others/-0.4\",\"2019/resident/others/-0.2\",\"2019/non-resident/manufacturing/-0.1\",\"2021/non-resident/others/-0.1\",\"2021/resident/manufacturing/0.1\",\"2017/non-resident/others/0.1\",\"2019/non-resident/others/0.1\",\"2018/non-resident/others/0.2\",\"2020/resident/others/0.2\",\"2021/resident/others/0.8\",\"2020/resident/construction/1.0\",\"2021/non-resident/construction/1.8\",\"2021/resident/construction/2.5\",\"2019/non-resident/construction/14.0\",\"2020/resident/services/17.4\",\"2017/non-resident/services/17.7\",\"2018/non-resident/services/23.7\",\"2019/non-resident/services/27.5\",\"2017/resident/services/28.3\",\"2018/resident/services/31.2\",\"2019/resident/services/31.9\",\"2021/resident/services/67.9\",\"2017/non-resident/construction\",\"2018/non-resident/construction\",\"2019/non-resident/construction\",\"2020/non-resident/construction\",\"2021/non-resident/construction\",\"2017/resident/construction\",\"2018/resident/construction\",\"2019/resident/construction\",\"2020/resident/construction\",\"2021/resident/construction\",\"2017/non-resident/manufacturing\",\"2018/non-resident/manufacturing\",\"2019/non-resident/manufacturing\",\"2020/non-resident/manufacturing\",\"2021/non-resident/manufacturing\",\"2017/resident/manufacturing\",\"2018/resident/manufacturing\",\"2019/resident/manufacturing\",\"2020/resident/manufacturing\",\"2021/resident/manufacturing\",\"2017/non-resident/others\",\"2018/non-resident/others\",\"2019/non-resident/others\",\"2020/non-resident/others\",\"2021/non-resident/others\",\"2017/resident/others\",\"2018/resident/others\",\"2019/resident/others\",\"2020/resident/others\",\"2021/resident/others\",\"2017/non-resident/services\",\"2018/non-resident/services\",\"2019/non-resident/services\",\"2020/non-resident/services\",\"2021/non-resident/services\",\"2017/resident/services\",\"2018/resident/services\",\"2019/resident/services\",\"2020/resident/services\",\"2021/resident/services\",\"2017/non-resident\",\"2018/non-resident\",\"2019/non-resident\",\"2020/non-resident\",\"2021/non-resident\",\"2017/resident\",\"2018/resident\",\"2019/resident\",\"2020/resident\",\"2021/resident\",\"2017\",\"2018\",\"2019\",\"2020\",\"2021\"],\"labels\":[\"-108.5\",\"-52.8\",\"-34.2\",\"-32.8\",\"-31.2\",\"-9.9\",\"-5.5\",\"-5.4\",\"-3.6\",\"-2.0\",\"-1.8\",\"-1.7\",\"-1.7\",\"-1.4\",\"-1.0\",\"-0.6\",\"-0.5\",\"-0.4\",\"-0.4\",\"-0.2\",\"-0.1\",\"-0.1\",\"0.1\",\"0.1\",\"0.1\",\"0.2\",\"0.2\",\"0.8\",\"1.0\",\"1.8\",\"2.5\",\"14.0\",\"17.4\",\"17.7\",\"23.7\",\"27.5\",\"28.3\",\"31.2\",\"31.9\",\"67.9\",\"construction\",\"construction\",\"construction\",\"construction\",\"construction\",\"construction\",\"construction\",\"construction\",\"construction\",\"construction\",\"manufacturing\",\"manufacturing\",\"manufacturing\",\"manufacturing\",\"manufacturing\",\"manufacturing\",\"manufacturing\",\"manufacturing\",\"manufacturing\",\"manufacturing\",\"others\",\"others\",\"others\",\"others\",\"others\",\"others\",\"others\",\"others\",\"others\",\"others\",\"services\",\"services\",\"services\",\"services\",\"services\",\"services\",\"services\",\"services\",\"services\",\"services\",\"non-resident\",\"non-resident\",\"non-resident\",\"non-resident\",\"non-resident\",\"resident\",\"resident\",\"resident\",\"resident\",\"resident\",\"2017\",\"2018\",\"2019\",\"2020\",\"2021\"],\"marker\":{\"coloraxis\":\"coloraxis\",\"colors\":[-108.5,-52.8,-34.2,-32.8,-31.2,-9.9,-5.5,-5.4,-3.6,-2.0,-1.8,-1.7,-1.7,-1.4,-1.0,-0.6,-0.5,-0.4,-0.4,-0.2,-0.1,-0.1,0.1,0.1,0.1,0.2,0.2,0.8,1.0,1.8,2.5,14.0,17.4,17.7,23.7,27.5,28.3,31.2,31.9,67.9,-32.8,-5.4,14.0,-52.8,1.8,-5.5,-1.7,-1.4,1.0,2.5,-9.9,-0.6,-0.1,-34.2,-1.7,-1.0,-1.8,-2.0,-3.6,0.1,0.1,0.2,0.1,-0.4,-0.1,-0.5,-0.4,-0.2,0.2,0.8,17.7,23.7,27.5,-108.5,-31.2,28.3,31.2,31.9,17.4,67.9,-6.224999999999999,4.475,10.375,-48.975,-7.8,5.325,6.825,7.075,3.7499999999999996,17.825,-0.4499999999999993,5.6499999999999995,8.725,-22.612499999999997,5.012500000000001]},\"name\":\"\",\"parents\":[\"2020/non-resident/services\",\"2020/non-resident/construction\",\"2020/non-resident/manufacturing\",\"2017/non-resident/construction\",\"2021/non-resident/services\",\"2017/non-resident/manufacturing\",\"2017/resident/construction\",\"2018/non-resident/construction\",\"2020/resident/manufacturing\",\"2019/resident/manufacturing\",\"2018/resident/manufacturing\",\"2018/resident/construction\",\"2021/non-resident/manufacturing\",\"2019/resident/construction\",\"2017/resident/manufacturing\",\"2018/non-resident/manufacturing\",\"2017/resident/others\",\"2020/non-resident/others\",\"2018/resident/others\",\"2019/resident/others\",\"2019/non-resident/manufacturing\",\"2021/non-resident/others\",\"2021/resident/manufacturing\",\"2017/non-resident/others\",\"2019/non-resident/others\",\"2018/non-resident/others\",\"2020/resident/others\",\"2021/resident/others\",\"2020/resident/construction\",\"2021/non-resident/construction\",\"2021/resident/construction\",\"2019/non-resident/construction\",\"2020/resident/services\",\"2017/non-resident/services\",\"2018/non-resident/services\",\"2019/non-resident/services\",\"2017/resident/services\",\"2018/resident/services\",\"2019/resident/services\",\"2021/resident/services\",\"2017/non-resident\",\"2018/non-resident\",\"2019/non-resident\",\"2020/non-resident\",\"2021/non-resident\",\"2017/resident\",\"2018/resident\",\"2019/resident\",\"2020/resident\",\"2021/resident\",\"2017/non-resident\",\"2018/non-resident\",\"2019/non-resident\",\"2020/non-resident\",\"2021/non-resident\",\"2017/resident\",\"2018/resident\",\"2019/resident\",\"2020/resident\",\"2021/resident\",\"2017/non-resident\",\"2018/non-resident\",\"2019/non-resident\",\"2020/non-resident\",\"2021/non-resident\",\"2017/resident\",\"2018/resident\",\"2019/resident\",\"2020/resident\",\"2021/resident\",\"2017/non-resident\",\"2018/non-resident\",\"2019/non-resident\",\"2020/non-resident\",\"2021/non-resident\",\"2017/resident\",\"2018/resident\",\"2019/resident\",\"2020/resident\",\"2021/resident\",\"2017\",\"2018\",\"2019\",\"2020\",\"2021\",\"2017\",\"2018\",\"2019\",\"2020\",\"2021\",\"\",\"\",\"\",\"\",\"\"],\"values\":[1,1,1,1,1,1,1,1,1,1,1,1,1,1,1,1,1,1,1,1,1,1,1,1,1,1,1,1,1,1,1,1,1,1,1,1,1,1,1,1,1,1,1,1,1,1,1,1,1,1,1,1,1,1,1,1,1,1,1,1,1,1,1,1,1,1,1,1,1,1,1,1,1,1,1,1,1,1,1,1,4,4,4,4,4,4,4,4,4,4,8,8,8,8,8],\"type\":\"sunburst\"}],                        {\"template\":{\"data\":{\"histogram2dcontour\":[{\"type\":\"histogram2dcontour\",\"colorbar\":{\"outlinewidth\":0,\"ticks\":\"\"},\"colorscale\":[[0.0,\"#0d0887\"],[0.1111111111111111,\"#46039f\"],[0.2222222222222222,\"#7201a8\"],[0.3333333333333333,\"#9c179e\"],[0.4444444444444444,\"#bd3786\"],[0.5555555555555556,\"#d8576b\"],[0.6666666666666666,\"#ed7953\"],[0.7777777777777778,\"#fb9f3a\"],[0.8888888888888888,\"#fdca26\"],[1.0,\"#f0f921\"]]}],\"choropleth\":[{\"type\":\"choropleth\",\"colorbar\":{\"outlinewidth\":0,\"ticks\":\"\"}}],\"histogram2d\":[{\"type\":\"histogram2d\",\"colorbar\":{\"outlinewidth\":0,\"ticks\":\"\"},\"colorscale\":[[0.0,\"#0d0887\"],[0.1111111111111111,\"#46039f\"],[0.2222222222222222,\"#7201a8\"],[0.3333333333333333,\"#9c179e\"],[0.4444444444444444,\"#bd3786\"],[0.5555555555555556,\"#d8576b\"],[0.6666666666666666,\"#ed7953\"],[0.7777777777777778,\"#fb9f3a\"],[0.8888888888888888,\"#fdca26\"],[1.0,\"#f0f921\"]]}],\"heatmap\":[{\"type\":\"heatmap\",\"colorbar\":{\"outlinewidth\":0,\"ticks\":\"\"},\"colorscale\":[[0.0,\"#0d0887\"],[0.1111111111111111,\"#46039f\"],[0.2222222222222222,\"#7201a8\"],[0.3333333333333333,\"#9c179e\"],[0.4444444444444444,\"#bd3786\"],[0.5555555555555556,\"#d8576b\"],[0.6666666666666666,\"#ed7953\"],[0.7777777777777778,\"#fb9f3a\"],[0.8888888888888888,\"#fdca26\"],[1.0,\"#f0f921\"]]}],\"heatmapgl\":[{\"type\":\"heatmapgl\",\"colorbar\":{\"outlinewidth\":0,\"ticks\":\"\"},\"colorscale\":[[0.0,\"#0d0887\"],[0.1111111111111111,\"#46039f\"],[0.2222222222222222,\"#7201a8\"],[0.3333333333333333,\"#9c179e\"],[0.4444444444444444,\"#bd3786\"],[0.5555555555555556,\"#d8576b\"],[0.6666666666666666,\"#ed7953\"],[0.7777777777777778,\"#fb9f3a\"],[0.8888888888888888,\"#fdca26\"],[1.0,\"#f0f921\"]]}],\"contourcarpet\":[{\"type\":\"contourcarpet\",\"colorbar\":{\"outlinewidth\":0,\"ticks\":\"\"}}],\"contour\":[{\"type\":\"contour\",\"colorbar\":{\"outlinewidth\":0,\"ticks\":\"\"},\"colorscale\":[[0.0,\"#0d0887\"],[0.1111111111111111,\"#46039f\"],[0.2222222222222222,\"#7201a8\"],[0.3333333333333333,\"#9c179e\"],[0.4444444444444444,\"#bd3786\"],[0.5555555555555556,\"#d8576b\"],[0.6666666666666666,\"#ed7953\"],[0.7777777777777778,\"#fb9f3a\"],[0.8888888888888888,\"#fdca26\"],[1.0,\"#f0f921\"]]}],\"surface\":[{\"type\":\"surface\",\"colorbar\":{\"outlinewidth\":0,\"ticks\":\"\"},\"colorscale\":[[0.0,\"#0d0887\"],[0.1111111111111111,\"#46039f\"],[0.2222222222222222,\"#7201a8\"],[0.3333333333333333,\"#9c179e\"],[0.4444444444444444,\"#bd3786\"],[0.5555555555555556,\"#d8576b\"],[0.6666666666666666,\"#ed7953\"],[0.7777777777777778,\"#fb9f3a\"],[0.8888888888888888,\"#fdca26\"],[1.0,\"#f0f921\"]]}],\"mesh3d\":[{\"type\":\"mesh3d\",\"colorbar\":{\"outlinewidth\":0,\"ticks\":\"\"}}],\"scatter\":[{\"fillpattern\":{\"fillmode\":\"overlay\",\"size\":10,\"solidity\":0.2},\"type\":\"scatter\"}],\"parcoords\":[{\"type\":\"parcoords\",\"line\":{\"colorbar\":{\"outlinewidth\":0,\"ticks\":\"\"}}}],\"scatterpolargl\":[{\"type\":\"scatterpolargl\",\"marker\":{\"colorbar\":{\"outlinewidth\":0,\"ticks\":\"\"}}}],\"bar\":[{\"error_x\":{\"color\":\"#2a3f5f\"},\"error_y\":{\"color\":\"#2a3f5f\"},\"marker\":{\"line\":{\"color\":\"#E5ECF6\",\"width\":0.5},\"pattern\":{\"fillmode\":\"overlay\",\"size\":10,\"solidity\":0.2}},\"type\":\"bar\"}],\"scattergeo\":[{\"type\":\"scattergeo\",\"marker\":{\"colorbar\":{\"outlinewidth\":0,\"ticks\":\"\"}}}],\"scatterpolar\":[{\"type\":\"scatterpolar\",\"marker\":{\"colorbar\":{\"outlinewidth\":0,\"ticks\":\"\"}}}],\"histogram\":[{\"marker\":{\"pattern\":{\"fillmode\":\"overlay\",\"size\":10,\"solidity\":0.2}},\"type\":\"histogram\"}],\"scattergl\":[{\"type\":\"scattergl\",\"marker\":{\"colorbar\":{\"outlinewidth\":0,\"ticks\":\"\"}}}],\"scatter3d\":[{\"type\":\"scatter3d\",\"line\":{\"colorbar\":{\"outlinewidth\":0,\"ticks\":\"\"}},\"marker\":{\"colorbar\":{\"outlinewidth\":0,\"ticks\":\"\"}}}],\"scattermapbox\":[{\"type\":\"scattermapbox\",\"marker\":{\"colorbar\":{\"outlinewidth\":0,\"ticks\":\"\"}}}],\"scatterternary\":[{\"type\":\"scatterternary\",\"marker\":{\"colorbar\":{\"outlinewidth\":0,\"ticks\":\"\"}}}],\"scattercarpet\":[{\"type\":\"scattercarpet\",\"marker\":{\"colorbar\":{\"outlinewidth\":0,\"ticks\":\"\"}}}],\"carpet\":[{\"aaxis\":{\"endlinecolor\":\"#2a3f5f\",\"gridcolor\":\"white\",\"linecolor\":\"white\",\"minorgridcolor\":\"white\",\"startlinecolor\":\"#2a3f5f\"},\"baxis\":{\"endlinecolor\":\"#2a3f5f\",\"gridcolor\":\"white\",\"linecolor\":\"white\",\"minorgridcolor\":\"white\",\"startlinecolor\":\"#2a3f5f\"},\"type\":\"carpet\"}],\"table\":[{\"cells\":{\"fill\":{\"color\":\"#EBF0F8\"},\"line\":{\"color\":\"white\"}},\"header\":{\"fill\":{\"color\":\"#C8D4E3\"},\"line\":{\"color\":\"white\"}},\"type\":\"table\"}],\"barpolar\":[{\"marker\":{\"line\":{\"color\":\"#E5ECF6\",\"width\":0.5},\"pattern\":{\"fillmode\":\"overlay\",\"size\":10,\"solidity\":0.2}},\"type\":\"barpolar\"}],\"pie\":[{\"automargin\":true,\"type\":\"pie\"}]},\"layout\":{\"autotypenumbers\":\"strict\",\"colorway\":[\"#636efa\",\"#EF553B\",\"#00cc96\",\"#ab63fa\",\"#FFA15A\",\"#19d3f3\",\"#FF6692\",\"#B6E880\",\"#FF97FF\",\"#FECB52\"],\"font\":{\"color\":\"#2a3f5f\"},\"hovermode\":\"closest\",\"hoverlabel\":{\"align\":\"left\"},\"paper_bgcolor\":\"white\",\"plot_bgcolor\":\"#E5ECF6\",\"polar\":{\"bgcolor\":\"#E5ECF6\",\"angularaxis\":{\"gridcolor\":\"white\",\"linecolor\":\"white\",\"ticks\":\"\"},\"radialaxis\":{\"gridcolor\":\"white\",\"linecolor\":\"white\",\"ticks\":\"\"}},\"ternary\":{\"bgcolor\":\"#E5ECF6\",\"aaxis\":{\"gridcolor\":\"white\",\"linecolor\":\"white\",\"ticks\":\"\"},\"baxis\":{\"gridcolor\":\"white\",\"linecolor\":\"white\",\"ticks\":\"\"},\"caxis\":{\"gridcolor\":\"white\",\"linecolor\":\"white\",\"ticks\":\"\"}},\"coloraxis\":{\"colorbar\":{\"outlinewidth\":0,\"ticks\":\"\"}},\"colorscale\":{\"sequential\":[[0.0,\"#0d0887\"],[0.1111111111111111,\"#46039f\"],[0.2222222222222222,\"#7201a8\"],[0.3333333333333333,\"#9c179e\"],[0.4444444444444444,\"#bd3786\"],[0.5555555555555556,\"#d8576b\"],[0.6666666666666666,\"#ed7953\"],[0.7777777777777778,\"#fb9f3a\"],[0.8888888888888888,\"#fdca26\"],[1.0,\"#f0f921\"]],\"sequentialminus\":[[0.0,\"#0d0887\"],[0.1111111111111111,\"#46039f\"],[0.2222222222222222,\"#7201a8\"],[0.3333333333333333,\"#9c179e\"],[0.4444444444444444,\"#bd3786\"],[0.5555555555555556,\"#d8576b\"],[0.6666666666666666,\"#ed7953\"],[0.7777777777777778,\"#fb9f3a\"],[0.8888888888888888,\"#fdca26\"],[1.0,\"#f0f921\"]],\"diverging\":[[0,\"#8e0152\"],[0.1,\"#c51b7d\"],[0.2,\"#de77ae\"],[0.3,\"#f1b6da\"],[0.4,\"#fde0ef\"],[0.5,\"#f7f7f7\"],[0.6,\"#e6f5d0\"],[0.7,\"#b8e186\"],[0.8,\"#7fbc41\"],[0.9,\"#4d9221\"],[1,\"#276419\"]]},\"xaxis\":{\"gridcolor\":\"white\",\"linecolor\":\"white\",\"ticks\":\"\",\"title\":{\"standoff\":15},\"zerolinecolor\":\"white\",\"automargin\":true,\"zerolinewidth\":2},\"yaxis\":{\"gridcolor\":\"white\",\"linecolor\":\"white\",\"ticks\":\"\",\"title\":{\"standoff\":15},\"zerolinecolor\":\"white\",\"automargin\":true,\"zerolinewidth\":2},\"scene\":{\"xaxis\":{\"backgroundcolor\":\"#E5ECF6\",\"gridcolor\":\"white\",\"linecolor\":\"white\",\"showbackground\":true,\"ticks\":\"\",\"zerolinecolor\":\"white\",\"gridwidth\":2},\"yaxis\":{\"backgroundcolor\":\"#E5ECF6\",\"gridcolor\":\"white\",\"linecolor\":\"white\",\"showbackground\":true,\"ticks\":\"\",\"zerolinecolor\":\"white\",\"gridwidth\":2},\"zaxis\":{\"backgroundcolor\":\"#E5ECF6\",\"gridcolor\":\"white\",\"linecolor\":\"white\",\"showbackground\":true,\"ticks\":\"\",\"zerolinecolor\":\"white\",\"gridwidth\":2}},\"shapedefaults\":{\"line\":{\"color\":\"#2a3f5f\"}},\"annotationdefaults\":{\"arrowcolor\":\"#2a3f5f\",\"arrowhead\":0,\"arrowwidth\":1},\"geo\":{\"bgcolor\":\"white\",\"landcolor\":\"#E5ECF6\",\"subunitcolor\":\"white\",\"showland\":true,\"showlakes\":true,\"lakecolor\":\"white\"},\"title\":{\"x\":0.05},\"mapbox\":{\"style\":\"light\"}}},\"coloraxis\":{\"colorbar\":{\"title\":{\"text\":\"Change\"}},\"colorscale\":[[0.0,\"rgb(103,0,31)\"],[0.1,\"rgb(178,24,43)\"],[0.2,\"rgb(214,96,77)\"],[0.3,\"rgb(244,165,130)\"],[0.4,\"rgb(253,219,199)\"],[0.5,\"rgb(247,247,247)\"],[0.6,\"rgb(209,229,240)\"],[0.7,\"rgb(146,197,222)\"],[0.8,\"rgb(67,147,195)\"],[0.9,\"rgb(33,102,172)\"],[1.0,\"rgb(5,48,97)\"]]},\"legend\":{\"tracegroupgap\":0},\"margin\":{\"t\":60}},                        {\"responsive\": true}                    ).then(function(){\n",
       "                            \n",
       "var gd = document.getElementById('6f8cfd14-f111-4204-8e16-e6efe89b0634');\n",
       "var x = new MutationObserver(function (mutations, observer) {{\n",
       "        var display = window.getComputedStyle(gd).display;\n",
       "        if (!display || display === 'none') {{\n",
       "            console.log([gd, 'removed!']);\n",
       "            Plotly.purge(gd);\n",
       "            observer.disconnect();\n",
       "        }}\n",
       "}});\n",
       "\n",
       "// Listen for the removal of the full notebook cells\n",
       "var notebookContainer = gd.closest('#notebook-container');\n",
       "if (notebookContainer) {{\n",
       "    x.observe(notebookContainer, {childList: true});\n",
       "}}\n",
       "\n",
       "// Listen for the clearing of the current output cell\n",
       "var outputEl = gd.closest('.output');\n",
       "if (outputEl) {{\n",
       "    x.observe(outputEl, {childList: true});\n",
       "}}\n",
       "\n",
       "                        })                };                });            </script>        </div>"
      ]
     },
     "metadata": {},
     "output_type": "display_data"
    }
   ],
   "source": [
    "import numpy as np\n",
    "fig = px.sunburst(df, path=['Year', \"Residential Status\",'Industry',\"Change\"],color=\"Change\",\n",
    "                  color_continuous_scale='RdBu')\n",
    "fig.show()"
   ]
  }
 ],
 "metadata": {
  "kernelspec": {
   "display_name": "Python 3 (ipykernel)",
   "language": "python",
   "name": "python3"
  },
  "language_info": {
   "codemirror_mode": {
    "name": "ipython",
    "version": 3
   },
   "file_extension": ".py",
   "mimetype": "text/x-python",
   "name": "python",
   "nbconvert_exporter": "python",
   "pygments_lexer": "ipython3",
   "version": "3.10.6"
  }
 },
 "nbformat": 4,
 "nbformat_minor": 5
}
